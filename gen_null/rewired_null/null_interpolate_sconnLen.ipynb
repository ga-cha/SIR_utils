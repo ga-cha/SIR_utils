{
 "cells": [
  {
   "cell_type": "markdown",
   "id": "e8b51329-414b-4c62-95cc-1bffe88f9158",
   "metadata": {},
   "source": [
    "## Simulate theoretical inter-ROI distance\n",
    "\n",
    "Gabriella Chan 29/08/23 <br>\n",
    "gabriella.chan@monash.edu <br>\n",
    "Monash University\n",
    "\n",
    "During the generation of the rewired null model, node connections may be generated that do not exist canonically. Here we theoretically simulate hypothetical inter-ROI distance if such tracts were to exist. We:\n",
    "1. Calculate the mean distance between ROIs by taking pairwise euclidean voxel distance\n",
    "2. Take linear regression between euclidean and experimental distance (from 42regions/sc40) of connected ROIs \n",
    "3. Compute theoretical distance"
   ]
  },
  {
   "cell_type": "code",
   "execution_count": 2,
   "id": "de7eb586-edfb-4e1e-a3b4-0b81fc72309e",
   "metadata": {},
   "outputs": [],
   "source": [
    "import nibabel as nib\n",
    "import statistics as stats\n",
    "import csv\n",
    "from scipy.spatial.distance import pdist\n",
    "import numpy as np\n"
   ]
  },
  {
   "cell_type": "code",
   "execution_count": 7,
   "id": "b7c0591a-7dc3-44e2-afb5-a692f9a4b8d2",
   "metadata": {},
   "outputs": [
    {
     "name": "stdout",
     "output_type": "stream",
     "text": [
      "(182, 218, 182)\n"
     ]
    }
   ],
   "source": [
    "# Loads atlas. Here we use the Desikan Killiany atlas \n",
    "# atlas_img = nib.load('../../../Atlases/Tian/Schaefer_Tian/reordered/Schaefer2018_100Parcels_7Networks_order_Tian_Subcortex_S2_MNI152NLin6Asym_1mm_reordered.nii')\n",
    "atlas_img = nib.load('../../../Atlases/Tian/Schaefer_Tian/reordered/Schaefer2018_300Parcels_7Networks_order_Tian_Subcortex_S2_MNI152NLin6Asym_1mm_reordered.nii')\n",
    "# determine atlas shape\n",
    "x, y, z = atlas_img.shape\n",
    "\n",
    "# check shape\n",
    "print(atlas_img.shape)\n",
    "atlas_data = atlas_img.get_fdata()"
   ]
  },
  {
   "cell_type": "code",
   "execution_count": 9,
   "id": "44b96982-8478-4f42-8bb0-015e7975c8b2",
   "metadata": {},
   "outputs": [],
   "source": [
    "# for each ROI generates a list of voxel coordinates\n",
    "\n",
    "# initialises variables\n",
    "# rois is a dictionary of all voxel coordinates per roi\n",
    "# rois = {ROI 1: [X, Y, Z], [X, Y, Z],...\n",
    "#         ROI 2: [X, Y, Z], [X, Y, Z],...\n",
    "#        }\n",
    "rois = {}\n",
    "\n",
    "for i in range (0, x):\n",
    "    for j in range (0, y):\n",
    "        for k in range (0, z):\n",
    "            # per voxel\n",
    "            # if the voxel within a ROI \n",
    "            if (atlas_data[i][j][k] > 0):\n",
    "                # the roi index is its value in the atlas\n",
    "                roi = atlas_data[i][j][k]\n",
    "                \n",
    "                # append the voxel coordinates to roi key in dict\n",
    "                try:\n",
    "                    rois[roi].append([i, j, k])\n",
    "                except:\n",
    "                    rois[roi] = [[i, j, k]]\n",
    "\n"
   ]
  },
  {
   "cell_type": "markdown",
   "id": "ac972f3c-b401-4bf4-93e6-5870b14b6ca7",
   "metadata": {},
   "source": [
    "## We hop over to MATLAB\n",
    "\n",
    "pdist2 in MATLAB will calculate the pairwise distances between lists of voxels"
   ]
  },
  {
   "cell_type": "code",
   "execution_count": 10,
   "id": "3566dabc-df51-4156-95d1-323637b5c38f",
   "metadata": {},
   "outputs": [],
   "source": [
    "for roi in range(1,len(rois)+1):\n",
    "    with open('./data/ROI_coordinates_300/ROI'+str(roi)+'coords.csv', 'w') as f:\n",
    "        wr = csv.writer(f)\n",
    "        wr.writerows(rois[roi])"
   ]
  },
  {
   "cell_type": "code",
   "execution_count": null,
   "id": "b7917ad5-e09d-4720-b142-2ade5ea1f359",
   "metadata": {},
   "outputs": [],
   "source": []
  }
 ],
 "metadata": {
  "kernelspec": {
   "display_name": "Python 3 (ipykernel)",
   "language": "python",
   "name": "python3"
  },
  "language_info": {
   "codemirror_mode": {
    "name": "ipython",
    "version": 3
   },
   "file_extension": ".py",
   "mimetype": "text/x-python",
   "name": "python",
   "nbconvert_exporter": "python",
   "pygments_lexer": "ipython3",
   "version": "3.8.5"
  }
 },
 "nbformat": 4,
 "nbformat_minor": 5
}
