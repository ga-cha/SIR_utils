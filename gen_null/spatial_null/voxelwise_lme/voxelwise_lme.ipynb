{
 "cells": [
  {
   "cell_type": "code",
   "execution_count": 1,
   "metadata": {
    "vscode": {
     "languageId": "r"
    }
   },
   "outputs": [
    {
     "name": "stderr",
     "output_type": "stream",
     "text": [
      "── \u001b[1mAttaching core tidyverse packages\u001b[22m ──────────────────────── tidyverse 2.0.0 ──\n",
      "\u001b[32m✔\u001b[39m \u001b[34mdplyr    \u001b[39m 1.1.4     \u001b[32m✔\u001b[39m \u001b[34mreadr    \u001b[39m 2.1.5\n",
      "\u001b[32m✔\u001b[39m \u001b[34mforcats  \u001b[39m 1.0.0     \u001b[32m✔\u001b[39m \u001b[34mstringr  \u001b[39m 1.5.1\n",
      "\u001b[32m✔\u001b[39m \u001b[34mggplot2  \u001b[39m 3.5.0     \u001b[32m✔\u001b[39m \u001b[34mtibble   \u001b[39m 3.2.1\n",
      "\u001b[32m✔\u001b[39m \u001b[34mlubridate\u001b[39m 1.9.3     \u001b[32m✔\u001b[39m \u001b[34mtidyr    \u001b[39m 1.3.1\n",
      "\u001b[32m✔\u001b[39m \u001b[34mpurrr    \u001b[39m 1.0.2     \n",
      "── \u001b[1mConflicts\u001b[22m ────────────────────────────────────────── tidyverse_conflicts() ──\n",
      "\u001b[31m✖\u001b[39m \u001b[34mdplyr\u001b[39m::\u001b[32mfilter()\u001b[39m masks \u001b[34mstats\u001b[39m::filter()\n",
      "\u001b[31m✖\u001b[39m \u001b[34mdplyr\u001b[39m::\u001b[32mlag()\u001b[39m    masks \u001b[34mstats\u001b[39m::lag()\n",
      "\u001b[36mℹ\u001b[39m Use the conflicted package (\u001b[3m\u001b[34m<http://conflicted.r-lib.org/>\u001b[39m\u001b[23m) to force all conflicts to become errors\n",
      "Loading required package: oro.nifti\n",
      "\n",
      "oro.nifti 0.11.4\n",
      "\n",
      "\n",
      "Attaching package: ‘oro.nifti’\n",
      "\n",
      "\n",
      "The following object is masked from ‘package:dplyr’:\n",
      "\n",
      "    slice\n",
      "\n",
      "\n",
      "Loading required package: Matrix\n",
      "\n",
      "\n",
      "Attaching package: ‘Matrix’\n",
      "\n",
      "\n",
      "The following objects are masked from ‘package:tidyr’:\n",
      "\n",
      "    expand, pack, unpack\n",
      "\n",
      "\n"
     ]
    }
   ],
   "source": [
    "library(tidyverse)\n",
    "library(neurobase)\n",
    "library(pbapply)\n",
    "library(readr)\n",
    "library(lme4)\n",
    "library(parallel)"
   ]
  },
  {
   "cell_type": "code",
   "execution_count": 2,
   "metadata": {
    "vscode": {
     "languageId": "r"
    }
   },
   "outputs": [],
   "source": [
    "# Define the Patient class\n",
    "Patient <- setRefClass(\n",
    "    \"Patient\",\n",
    "    fields = list(\n",
    "        id = \"character\",\n",
    "        dataset = \"character\",\n",
    "        site = \"factor\",\n",
    "        age = \"numeric\",\n",
    "        sex = \"factor\",\n",
    "        diagnosis = \"factor\",\n",
    "        ses = \"character\",\n",
    "        img = \"character\",\n",
    "        patient_data = \"data.frame\"\n",
    "    ),\n",
    "    methods = list(\n",
    "        initialize = function(i, metadata) {\n",
    "            id <<- metadata$subj_id[i]\n",
    "            dataset <<- metadata$dataset[i]\n",
    "            site <<- as.factor(metadata$site_string[i])\n",
    "            age <<- metadata$age[i]\n",
    "            sex <<- as.factor(metadata$sex_string[i])\n",
    "            diagnosis <<- as.factor(metadata$diagnosis[i])\n",
    "            ses <<- metadata$ses[i]\n",
    "            \n",
    "            if (is.na(ses)) {\n",
    "                patient_dir <- file.path(\"/fs04/kg98/trangc/VBM/data\", dataset, id, \"anat\")\n",
    "                img <<- file.path(patient_dir, paste0(\"s6mwp1\", id, \"_T1w.nii\"))\n",
    "            } else {\n",
    "                patient_dir <- file.path(\"/fs04/kg98/trangc/VBM/data\", dataset, id, ses, \"anat\")\n",
    "                img <<- file.path(patient_dir, paste0(\"s6mwp1\", id, \"_\", ses, \"_T1w.nii\"))\n",
    "            }\n",
    "        },\n",
    "        \n",
    "        get_patient_voxels = function(atlas, nparcs = 66) {\n",
    "            \n",
    "            img_data <- readnii(img)\n",
    "            gmv <- img_data@.Data\n",
    "            \n",
    "            mask <- (atlas > 0) & (atlas <= nparcs)\n",
    "            gmv <- gmv[mask]\n",
    "            \n",
    "            gmv_flat <- as.vector(gmv)\n",
    "            voxels <- setNames(gmv_flat, seq_along(gmv_flat))\n",
    "            \n",
    "            return(voxels)\n",
    "        },\n",
    "        \n",
    "        make_patient_df = function(voxels) {\n",
    "            n <- length(voxels)\n",
    "            data <- tibble(\n",
    "            MGV = as.double(voxels),\n",
    "            subj_id = rep(id, n),\n",
    "            voxel = as.factor(names(voxels)),\n",
    "            diagnosis = rep(diagnosis, n),\n",
    "            age = rep(age, n),\n",
    "            sex = rep(sex, n),\n",
    "            site = rep(site, n)\n",
    "            )\n",
    "            \n",
    "            patient_data <<- data\n",
    "        }\n",
    "    )\n",
    ")"
   ]
  },
  {
   "cell_type": "code",
   "execution_count": 3,
   "metadata": {
    "vscode": {
     "languageId": "r"
    }
   },
   "outputs": [
    {
     "name": "stderr",
     "output_type": "stream",
     "text": [
      "\u001b[1mRows: \u001b[22m\u001b[34m2331\u001b[39m \u001b[1mColumns: \u001b[22m\u001b[34m10\u001b[39m\n",
      "\u001b[36m──\u001b[39m \u001b[1mColumn specification\u001b[22m \u001b[36m────────────────────────────────────────────────────────\u001b[39m\n",
      "\u001b[1mDelimiter:\u001b[22m \",\"\n",
      "\u001b[31mchr\u001b[39m (6): subj_id, dataset, site_string, sex_string, diagnosis_string, ses\n",
      "\u001b[32mdbl\u001b[39m (4): site, diagnosis, age, sex\n",
      "\n",
      "\u001b[36mℹ\u001b[39m Use `spec()` to retrieve the full column specification for this data.\n",
      "\u001b[36mℹ\u001b[39m Specify the column types or set `show_col_types = FALSE` to quiet this message.\n"
     ]
    },
    {
     "name": "stdout",
     "output_type": "stream",
     "text": [
      "  |++++++++++++++++++++++++++++++++++++++++++++++++++| 100% elapsed=33m 57s\n",
      "\u001b[90m# A tibble: 6 × 7\u001b[39m\n",
      "    MGV subj_id   voxel diagnosis   age sex   site      \n",
      "  \u001b[3m\u001b[90m<dbl>\u001b[39m\u001b[23m \u001b[3m\u001b[90m<chr>\u001b[39m\u001b[23m     \u001b[3m\u001b[90m<fct>\u001b[39m\u001b[23m \u001b[3m\u001b[90m<fct>\u001b[39m\u001b[23m     \u001b[3m\u001b[90m<dbl>\u001b[39m\u001b[23m \u001b[3m\u001b[90m<fct>\u001b[39m\u001b[23m \u001b[3m\u001b[90m<fct>\u001b[39m\u001b[23m     \n",
      "\u001b[90m1\u001b[39m 0.369 sub-10002 1     1            30 M     Advan_inno\n",
      "\u001b[90m2\u001b[39m 0.362 sub-10002 2     1            30 M     Advan_inno\n",
      "\u001b[90m3\u001b[39m 0.353 sub-10002 3     1            30 M     Advan_inno\n",
      "\u001b[90m4\u001b[39m 0.344 sub-10002 4     1            30 M     Advan_inno\n",
      "\u001b[90m5\u001b[39m 0.333 sub-10002 5     1            30 M     Advan_inno\n",
      "\u001b[90m6\u001b[39m 0.320 sub-10002 6     1            30 M     Advan_inno\n"
     ]
    }
   ],
   "source": [
    "# ~40 min\n",
    "\n",
    "# Load patient metadata\n",
    "metadata <- read_csv(\"/fs04/kg98/trangc/VBM/data/metaVBM_SCZ.csv\")\n",
    "metadata <- metadata %>% mutate(diagnosis = recode(diagnosis, `1` = 0, `4` = 1))\n",
    "\n",
    "# Load atlas\n",
    "s132_img <- readnii('/fs03/kg98/gchan/Atlases/Tian/Schaefer_Tian/reordered/Schaefer2018_100Parcels_7Networks_order_Tian_Subcortex_S2_MNI152NLin6Asym_1.5mm_reordered.nii.gz')\n",
    "atlas <- s132_img@.Data\n",
    "\n",
    "# Output dataframe for lme\n",
    "gmv <- tibble()\n",
    "\n",
    "# Store the dataframes in a list and combine afterwards\n",
    "patient_dfs <- list()\n",
    "\n",
    "# Set progress bar type to \"timer\"\n",
    "pboptions(type = \"timer\")\n",
    "\n",
    "patient_dfs <- pblapply(seq_len(nrow(metadata)), function(i) {\n",
    "    patient <- Patient$new(i, metadata)\n",
    "    \n",
    "    voxels <- patient$get_patient_voxels(atlas)\n",
    "    patient$make_patient_df(voxels)\n",
    "    \n",
    "    return(patient$patient_data)\n",
    "})\n",
    "\n",
    "gmv <- bind_rows(patient_dfs)\n",
    "print(head(gmv))"
   ]
  },
  {
   "cell_type": "code",
   "execution_count": 4,
   "metadata": {
    "vscode": {
     "languageId": "r"
    }
   },
   "outputs": [],
   "source": [
    "# Split into one dataframe per voxel\n",
    "voxels_all_sites <- split(gmv, gmv$voxel)\n",
    "\n",
    "# Remove sites where all values of diagnosis are 0\n",
    "sites_to_remove <- gmv %>%\n",
    "    group_by(site) %>%\n",
    "    filter(all(diagnosis == 0)) %>%\n",
    "    pull(site)\n",
    "\n",
    "gmv <- gmv %>%\n",
    "    filter(!site %in% sites_to_remove)\n",
    "\n",
    "    \n",
    "# Split into one dataframe per voxel\n",
    "voxels <- split(gmv, gmv$voxel)"
   ]
  },
  {
   "cell_type": "code",
   "execution_count": 5,
   "metadata": {
    "vscode": {
     "languageId": "r"
    }
   },
   "outputs": [
    {
     "name": "stdout",
     "output_type": "stream",
     "text": [
      "  |                                                  | 0 % ~calculating  "
     ]
    },
    {
     "name": "stdout",
     "output_type": "stream",
     "text": [
      "  |++++++                                            | 11% ~01h 27m 33s  "
     ]
    },
    {
     "name": "stderr",
     "output_type": "stream",
     "text": [
      "Warning message in checkConv(attr(opt, \"derivs\"), opt$par, ctrl = control$checkConv, :\n",
      "“Model failed to converge with max|grad| = 0.003414 (tol = 0.002, component 1)”\n"
     ]
    },
    {
     "name": "stdout",
     "output_type": "stream",
     "text": [
      "  |+++++++                                           | 14% ~01h 25m 30s  "
     ]
    },
    {
     "name": "stderr",
     "output_type": "stream",
     "text": [
      "Warning message in checkConv(attr(opt, \"derivs\"), opt$par, ctrl = control$checkConv, :\n",
      "“Model failed to converge with max|grad| = 0.00348354 (tol = 0.002, component 1)”\n",
      "Warning message in checkConv(attr(opt, \"derivs\"), opt$par, ctrl = control$checkConv, :\n",
      "“Model failed to converge with max|grad| = 0.0033564 (tol = 0.002, component 1)”\n"
     ]
    },
    {
     "name": "stdout",
     "output_type": "stream",
     "text": [
      "  |+++++++++++                                       | 21% ~01h 19m 09s  "
     ]
    },
    {
     "name": "stderr",
     "output_type": "stream",
     "text": [
      "Warning message in checkConv(attr(opt, \"derivs\"), opt$par, ctrl = control$checkConv, :\n",
      "“Model failed to converge with max|grad| = 0.00240671 (tol = 0.002, component 1)”\n"
     ]
    },
    {
     "name": "stdout",
     "output_type": "stream",
     "text": [
      "  |+++++++++++++++                                   | 29% ~01h 11m 39s  "
     ]
    },
    {
     "name": "stderr",
     "output_type": "stream",
     "text": [
      "Warning message in checkConv(attr(opt, \"derivs\"), opt$par, ctrl = control$checkConv, :\n",
      "“Model failed to converge with max|grad| = 0.00321734 (tol = 0.002, component 1)”\n"
     ]
    },
    {
     "name": "stdout",
     "output_type": "stream",
     "text": [
      "  |++++++++++++++++++                                | 36% ~01h 04m 51s  "
     ]
    },
    {
     "name": "stderr",
     "output_type": "stream",
     "text": [
      "Warning message in checkConv(attr(opt, \"derivs\"), opt$par, ctrl = control$checkConv, :\n",
      "“Model failed to converge with max|grad| = 0.00310298 (tol = 0.002, component 1)”\n"
     ]
    },
    {
     "name": "stdout",
     "output_type": "stream",
     "text": [
      "  |+++++++++++++++++++                               | 37% ~01h 04m 01s  "
     ]
    },
    {
     "name": "stderr",
     "output_type": "stream",
     "text": [
      "Warning message in checkConv(attr(opt, \"derivs\"), opt$par, ctrl = control$checkConv, :\n",
      "“Model failed to converge with max|grad| = 0.00327263 (tol = 0.002, component 1)”\n"
     ]
    },
    {
     "name": "stdout",
     "output_type": "stream",
     "text": [
      "  |++++++++++++++++++++++                            | 43% ~57m 56s      "
     ]
    },
    {
     "name": "stderr",
     "output_type": "stream",
     "text": [
      "Warning message in checkConv(attr(opt, \"derivs\"), opt$par, ctrl = control$checkConv, :\n",
      "“Model failed to converge with max|grad| = 0.00298523 (tol = 0.002, component 1)”\n"
     ]
    },
    {
     "name": "stdout",
     "output_type": "stream",
     "text": [
      "  |++++++++++++++++++++++++                          | 47% ~53m 55s      "
     ]
    },
    {
     "name": "stderr",
     "output_type": "stream",
     "text": [
      "Warning message in checkConv(attr(opt, \"derivs\"), opt$par, ctrl = control$checkConv, :\n",
      "“Model failed to converge with max|grad| = 0.00320695 (tol = 0.002, component 1)”\n"
     ]
    },
    {
     "name": "stdout",
     "output_type": "stream",
     "text": [
      "  |++++++++++++++++++++++++++++++++++++++            | 75% ~25m 56s      "
     ]
    },
    {
     "name": "stderr",
     "output_type": "stream",
     "text": [
      "Warning message in checkConv(attr(opt, \"derivs\"), opt$par, ctrl = control$checkConv, :\n",
      "“Model failed to converge with max|grad| = 0.00319182 (tol = 0.002, component 1)”\n"
     ]
    },
    {
     "name": "stdout",
     "output_type": "stream",
     "text": [
      "  |+++++++++++++++++++++++++++++++++++++++++++       | 86% ~14m 41s      "
     ]
    },
    {
     "name": "stderr",
     "output_type": "stream",
     "text": [
      "Warning message in checkConv(attr(opt, \"derivs\"), opt$par, ctrl = control$checkConv, :\n",
      "“Model failed to converge with max|grad| = 0.00317445 (tol = 0.002, component 1)”\n"
     ]
    },
    {
     "name": "stdout",
     "output_type": "stream",
     "text": [
      "  |++++++++++++++++++++++++++++++++++++++++++++++++++| 100% elapsed=01h 46m 18s\n"
     ]
    }
   ],
   "source": [
    "# ~ 2h\n",
    "\n",
    "# Initialize an empty list to store the beta values\n",
    "beta_values <- list()\n",
    "\n",
    "# Calculate beta values for all data\n",
    "beta_values <- pblapply(names(voxels_all_sites), function(voxel) {\n",
    "    model <- lmer(MGV ~ diagnosis + age + sex + (1 | site), data = voxels_all_sites[[voxel]])\n",
    "    beta_diagnosis <- summary(model)$coefficients[\"diagnosis0\", \"Estimate\"]\n",
    "    return(beta_diagnosis)\n",
    "})\n",
    "\n",
    "beta_values <- setNames(beta_values, names(voxels_all_sites))\n",
    "# Create the initial beta_df with all data\n",
    "beta_df <- data.frame(voxel = names(beta_values), diagnosis_beta = as.numeric(scale(unlist(beta_values))))"
   ]
  },
  {
   "cell_type": "code",
   "execution_count": 6,
   "metadata": {
    "vscode": {
     "languageId": "r"
    }
   },
   "outputs": [],
   "source": [
    "beta_df$voxel <- as.integer(beta_df$voxel)\n",
    "beta_df <- beta_df[order(beta_df$voxel), ]\n",
    "write.csv(beta_df, \"./results/betas_v2.csv\", row.names = FALSE)\n",
    "# write.table(beta_df$diagnosis_beta, \"betas_diag.csv\", col.names = FALSE, row.names = FALSE, sep = \",\")"
   ]
  },
  {
   "cell_type": "code",
   "execution_count": 7,
   "metadata": {
    "vscode": {
     "languageId": "r"
    }
   },
   "outputs": [],
   "source": [
    "# Create a copy of the atlas to modify\n",
    "lme_betas <- atlas\n",
    "# Convert values > 66 in atlas to 0\n",
    "lme_betas[lme_betas > 66] <- 0\n",
    "# Create a mask for the values in the atlas\n",
    "mask <- (lme_betas > 0)\n",
    "\n",
    "# Flatten the mask and atlas\n",
    "flat_mask <- as.vector(mask)\n",
    "flat_atlas <- as.vector(lme_betas)\n",
    "\n",
    "# Replace values in the atlas with corresponding values from beta_df\n",
    "flat_atlas[flat_mask] <- beta_df$diagnosis_beta\n",
    "\n",
    "# Reshape the modified atlas back to its original shape\n",
    "lme_betas <- array(flat_atlas, dim = dim(atlas))\n",
    "\n",
    "# Combine the modified atlas with the header from s132_img\n",
    "modified_img <- s132_img\n",
    "modified_img@.Data <- lme_betas\n",
    "\n",
    "# Save the modified image to a NIfTI file\n",
    "write_nifti(modified_img, \"./results/lme_betas_2.nii\")"
   ]
  },
  {
   "cell_type": "code",
   "execution_count": 8,
   "metadata": {
    "vscode": {
     "languageId": "r"
    }
   },
   "outputs": [],
   "source": [
    "# Create a copy of lme_betas to store the mean values\n",
    "mean_lme_betas <- lme_betas\n",
    "\n",
    "# Get unique ROI values from the atlas\n",
    "rois <- unique(atlas[atlas > 0])\n",
    "\n",
    "# Iterate over each ROI\n",
    "for (roi in rois) {\n",
    "    # Create a mask for the current ROI\n",
    "    roi_mask <- (atlas == roi)\n",
    "    \n",
    "    # Extract the corresponding values from lme_betas\n",
    "    roi_values <- lme_betas[roi_mask]\n",
    "    \n",
    "    # Calculate the mean grey value\n",
    "    mean_value <- mean(roi_values, na.rm = TRUE)\n",
    "    \n",
    "    # Assign the mean value back to all voxels in the ROI\n",
    "    mean_lme_betas[roi_mask] <- mean_value\n",
    "}\n",
    "\n",
    "# Combine the modified atlas with the header from s132_img\n",
    "modified_img <- s132_img\n",
    "modified_img@.Data <- mean_lme_betas\n",
    "\n",
    "# Save the modified image to a NIfTI file\n",
    "write_nifti(modified_img, \"./results/mean_lme_betas_2.nii\")"
   ]
  },
  {
   "cell_type": "code",
   "execution_count": null,
   "metadata": {
    "vscode": {
     "languageId": "r"
    }
   },
   "outputs": [],
   "source": [
    "# # Calculate beta values for each site separately\n",
    "# sites <- unique(gmv$site)\n",
    "# for (site in sites) {\n",
    "#     beta_values <- list()\n",
    "\n",
    "#     for (voxel in names(voxels)) {\n",
    "#         df <- voxels[[voxel]] %>% filter(site == !!site)\n",
    "        \n",
    "#         model <- lm(MGV ~ diagnosis + age + sex, data = df)\n",
    "#         model_summary <- summary(model)\n",
    "#         if (\"diagnosis0\" %in% rownames(model_summary$coefficients)) {\n",
    "#             beta_diagnosis <- model_summary$coefficients[\"diagnosis0\", \"Estimate\"]\n",
    "#             beta_values[[voxel]] <- beta_diagnosis\n",
    "#         } else {\n",
    "#             beta_values[[voxel]] <- NA\n",
    "#         }\n",
    "#     }\n",
    "#     # Update beta_df with each site\n",
    "#     beta_df[[site]] <- as.numeric(scale(unlist(beta_values)))\n",
    "# }\n",
    "\n",
    "# print(head(beta_df))"
   ]
  },
  {
   "cell_type": "code",
   "execution_count": null,
   "metadata": {
    "vscode": {
     "languageId": "r"
    }
   },
   "outputs": [],
   "source": [
    "# Calculate the correlation between each column and diagnosis_beta\n",
    "correlations <- sapply(beta_df[-1], function(x) cor(beta_df$diagnosis_beta, x, use = \"complete.obs\"))\n",
    "\n",
    "# Print the correlations\n",
    "# Convert correlations to a data frame\n",
    "correlation_df <- data.frame(site = names(correlations), correlation = correlations)\n",
    "\n",
    "# Print the correlation data frame\n",
    "print(correlation_df, row.names = FALSE)\n",
    "write.csv(correlation_df, \"correlations.csv\", row.names = FALSE)\n"
   ]
  }
 ],
 "metadata": {
  "kernelspec": {
   "display_name": "R",
   "language": "R",
   "name": "ir"
  },
  "language_info": {
   "codemirror_mode": "r",
   "file_extension": ".r",
   "mimetype": "text/x-r-source",
   "name": "R",
   "pygments_lexer": "r",
   "version": "4.3.3"
  }
 },
 "nbformat": 4,
 "nbformat_minor": 2
}
