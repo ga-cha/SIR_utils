{
 "cells": [
  {
   "cell_type": "code",
   "execution_count": 2,
   "id": "bd7815ba-c693-4dce-8f9f-78835ae823fb",
   "metadata": {},
   "outputs": [],
   "source": [
    "from brainsmash.mapgen.base import Base\n",
    "import numpy as np\n",
    "import csv"
   ]
  },
  {
   "cell_type": "code",
   "execution_count": 5,
   "id": "49990fa6-1216-453a-8658-6f696da91eba",
   "metadata": {},
   "outputs": [],
   "source": [
    "for dataset_name in [\"bgs\", \"cobre\", \"hcpep\", \"stages\"]:\n",
    "    # load parcellated structural neuroimaging maps\n",
    "    atrophy = np.loadtxt(\"data/S132/gmv_S132_\" + dataset_name + \".csv\")\n",
    "    distance = np.loadtxt(\"data/S132/ifod_len.csv\", delimiter=\",\")\n",
    "    \n",
    "    # instantiate class and generate 1000 surrogates\n",
    "    gen = Base(atrophy, distance)\n",
    "    smash_maps = gen(n=1000)\n",
    "    \n",
    "    with open('results/null_S132_' + dataset_name + '.csv', 'w', newline='') as f:\n",
    "        wr = csv.writer(f)\n",
    "        wr.writerows(smash_maps.T)"
   ]
  }
 ],
 "metadata": {
  "kernelspec": {
   "display_name": "Python 3 (ipykernel)",
   "language": "python",
   "name": "python3"
  },
  "language_info": {
   "codemirror_mode": {
    "name": "ipython",
    "version": 3
   },
   "file_extension": ".py",
   "mimetype": "text/x-python",
   "name": "python",
   "nbconvert_exporter": "python",
   "pygments_lexer": "ipython3",
   "version": "3.8.5"
  }
 },
 "nbformat": 4,
 "nbformat_minor": 5
}
