{
 "cells": [
  {
   "cell_type": "code",
   "execution_count": 1,
   "metadata": {},
   "outputs": [],
   "source": [
    "# 06/02/25 \n",
    "# Gabriella Chan\n",
    "# gabriella.chan@moansh.edu\n",
    "\n",
    "# This script generates a memory mapped distance matrix using the brainsmash volume function\n",
    "# It loads an atlas, takes coordinates of valid rois, and calls \"volume\" to generate the distance matrix"
   ]
  },
  {
   "cell_type": "code",
   "execution_count": 1,
   "metadata": {},
   "outputs": [],
   "source": [
    "import nibabel as nib\n",
    "import pandas as pd\n",
    "import numpy as np\n",
    "from brainsmash.workbench import volume\n",
    "from brainsmash.mapgen.eval import sampled_fit\n",
    "from brainsmash.mapgen.sampled import Sampled\n",
    "\n",
    "\n",
    "import time\n",
    "from ttictoc import tic, toc"
   ]
  },
  {
   "cell_type": "code",
   "execution_count": null,
   "metadata": {},
   "outputs": [
    {
     "name": "stdout",
     "output_type": "stream",
     "text": [
      "(129821, 3)\n"
     ]
    }
   ],
   "source": [
    "# This cell is for Trang\n",
    "\n",
    "data_dir = './data/bgs_quad/'\n",
    "out_dir = './results/bgs_quad/'\n",
    "\n",
    "# Load img\n",
    "img = nib.load('./data/spmT_0001_quadrant.nii.gz')\n",
    "img_data = img.get_fdata()\n",
    "mask = (img_data != 0)"
   ]
  },
  {
   "cell_type": "code",
   "execution_count": 2,
   "metadata": {},
   "outputs": [],
   "source": [
    "data_dir = './data/lh/'\n",
    "out_dir = './results/lh/'\n",
    "\n",
    "# Load atlas and brain map\n",
    "atlas_img = nib.load('/fs03/kg98/gchan/Atlases/Tian/Schaefer_Tian/reordered/Schaefer2018_100Parcels_' +\n",
    "    '7Networks_order_Tian_Subcortex_S2_MNI152NLin6Asym_1.5mm_reordered.nii.gz')\n",
    "atlas = atlas_img.get_fdata()\n",
    "img = nib.load('./data/lme_betas.nii.gz')\n",
    "img_data = img.get_fdata()\n",
    "\n",
    "roi_i = 1\n",
    "roi_j = 66\n",
    "mask = (atlas >= roi_i) & (atlas <= roi_j)"
   ]
  },
  {
   "cell_type": "code",
   "execution_count": 3,
   "metadata": {},
   "outputs": [],
   "source": [
    "gen_distmat = False\n",
    "if gen_distmat:\n",
    "    tic()\n",
    "    # Get the 3D coordinates and values of the masked image\n",
    "    coords = np.column_stack(np.where(mask))\n",
    "    coord_file = data_dir + 'coordinates.txt'\n",
    "    np.savetxt(coord_file, coords, fmt='%d')\n",
    "\n",
    "    gmv = img_data[np.where(mask)]\n",
    "    brain_map = data_dir + 'lme_betas.txt'\n",
    "    np.savetxt(brain_map, gmv, fmt='%f')\n",
    "\n",
    "    # volume is a builtin BrainSMASH function that generates a memory-mapped distance matrix\n",
    "    # This has a very long runtime\n",
    "    filenames = volume(coord_file, data_dir)\n",
    "    toc()\n",
    "else:\n",
    "    brain_map = data_dir + 'lme_betas.txt'\n",
    "    filenames = {\"D\": data_dir + \"distmat.npy\", \n",
    "                \"index\": data_dir + \"index.npy\"\n",
    "                }"
   ]
  },
  {
   "cell_type": "code",
   "execution_count": 5,
   "metadata": {},
   "outputs": [],
   "source": [
    "# 13 min l cx knn 1500, 14 min knn 2300\n",
    "\n",
    "# These are three of the key parameters affecting the variogram fit\n",
    "kwargs = {'ns': 500,\n",
    "          'knn': 1500,\n",
    "          'pv': 60,\n",
    "          'kernel': 'gaussian',\n",
    "          'n_jobs': 12\n",
    "          }\n",
    "\n",
    "# Running this command will generate a matplotlib figure\n",
    "# tic()\n",
    "# sampled_fit(brain_map, filenames['D'], filenames['index'], nsurr=10, **kwargs)\n",
    "# toc()"
   ]
  },
  {
   "cell_type": "code",
   "execution_count": 6,
   "metadata": {},
   "outputs": [
    {
     "data": {
      "text/plain": [
       "1016.867674135603"
      ]
     },
     "execution_count": 6,
     "metadata": {},
     "output_type": "execute_result"
    }
   ],
   "source": [
    "tic()\n",
    "# 20 min 200k voxels\n",
    "gen = Sampled(x=brain_map, D=filenames['D'], index=filenames['index'], **kwargs)\n",
    "toc()"
   ]
  },
  {
   "cell_type": "code",
   "execution_count": null,
   "metadata": {},
   "outputs": [],
   "source": [
    "# There is no economies of scale in generating multiple surrogate maps\n",
    "# 4h for 1 null map of 166k voxels\n",
    "\n",
    "tic()\n",
    "n_maps = 1\n",
    "surrogate_maps = gen(n=n_maps)\n",
    "print(surrogate_maps.shape)\n",
    "toc()"
   ]
  },
  {
   "cell_type": "code",
   "execution_count": null,
   "metadata": {},
   "outputs": [],
   "source": [
    "def save_map(null_map, out_dir, filename):\n",
    "    modified_img = nib.Nifti1Image(null_map, img.affine, img.header)\n",
    "    nib.save(modified_img, out_dir + filename)"
   ]
  },
  {
   "cell_type": "code",
   "execution_count": null,
   "metadata": {},
   "outputs": [],
   "source": [
    "null_map = np.zeros_like(img_data, dtype=float)\n",
    "if n_maps == 1:\n",
    "    null_map[mask] = surrogate_maps\n",
    "    save_map(null_map, out_dir, \"test_timing.nii.gz\")\n",
    "else:\n",
    "    for i in range(n_maps):\n",
    "        null_map[mask] = surrogate_maps[i]\n",
    "        save_map(null_map, out_dir, f\"null_map_{i}.nii.gz\")\n",
    "\n",
    "# np.savetxt(out_dir + 'mask.csv', mask, delimiter=',', fmt='%d')\n",
    "# np.savetxt(out_dir + 'surrogate_maps.csv', surrogate_maps, delimiter=',', fmt='%f')"
   ]
  },
  {
   "cell_type": "code",
   "execution_count": null,
   "metadata": {},
   "outputs": [],
   "source": []
  }
 ],
 "metadata": {
  "kernelspec": {
   "display_name": "base",
   "language": "python",
   "name": "python3"
  },
  "language_info": {
   "codemirror_mode": {
    "name": "ipython",
    "version": 3
   },
   "file_extension": ".py",
   "mimetype": "text/x-python",
   "name": "python",
   "nbconvert_exporter": "python",
   "pygments_lexer": "ipython3",
   "version": "3.8.5"
  }
 },
 "nbformat": 4,
 "nbformat_minor": 4
}
