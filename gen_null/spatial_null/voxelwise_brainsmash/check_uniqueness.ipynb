{
 "cells": [
  {
   "cell_type": "code",
   "execution_count": 1,
   "metadata": {},
   "outputs": [],
   "source": [
    "import nibabel as nib\n",
    "import hashlib\n",
    "import os\n"
   ]
  },
  {
   "cell_type": "code",
   "execution_count": 2,
   "metadata": {},
   "outputs": [],
   "source": [
    "def compute_file_hash(filepath):\n",
    "    \"\"\"Compute the SHA256 hash of a NIfTI file.\"\"\"\n",
    "    img = nib.load(filepath)\n",
    "    data = img.get_fdata()\n",
    "    # Convert the data to bytes and compute the hash\n",
    "    data_bytes = data.tobytes()\n",
    "    return hashlib.sha256(data_bytes).hexdigest()\n",
    "\n",
    "def check_uniqueness(directory):\n",
    "    \"\"\"Check if all NIfTI files in the directory are unique.\"\"\"\n",
    "    hashes = set()\n",
    "    duplicate_files = []\n",
    "\n",
    "    for filename in os.listdir(directory):\n",
    "        if filename.endswith('.nii') or filename.endswith('.nii.gz'):\n",
    "            filepath = os.path.join(directory, filename)\n",
    "            file_hash = compute_file_hash(filepath)\n",
    "            if file_hash in hashes:\n",
    "                duplicate_files.append(filepath)\n",
    "            else:\n",
    "                hashes.add(file_hash)\n",
    "\n",
    "    if duplicate_files:\n",
    "        print(\"Duplicate files found:\")\n",
    "        for filepath in duplicate_files:\n",
    "            print(filepath)\n",
    "    else:\n",
    "        print(\"All files are unique.\")\n",
    "\n"
   ]
  },
  {
   "cell_type": "code",
   "execution_count": 3,
   "metadata": {},
   "outputs": [
    {
     "name": "stdout",
     "output_type": "stream",
     "text": [
      "All files are unique.\n"
     ]
    }
   ],
   "source": [
    "directory = './results'\n",
    "check_uniqueness(directory)"
   ]
  },
  {
   "cell_type": "code",
   "execution_count": null,
   "metadata": {},
   "outputs": [],
   "source": []
  }
 ],
 "metadata": {
  "kernelspec": {
   "display_name": "base",
   "language": "python",
   "name": "python3"
  },
  "language_info": {
   "codemirror_mode": {
    "name": "ipython",
    "version": 3
   },
   "file_extension": ".py",
   "mimetype": "text/x-python",
   "name": "python",
   "nbconvert_exporter": "python",
   "pygments_lexer": "ipython3",
   "version": "3.8.5"
  }
 },
 "nbformat": 4,
 "nbformat_minor": 2
}
