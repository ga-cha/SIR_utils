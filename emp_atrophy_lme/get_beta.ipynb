{
 "cells": [
  {
   "cell_type": "code",
   "execution_count": 4,
   "metadata": {
    "vscode": {
     "languageId": "r"
    }
   },
   "outputs": [
    {
     "name": "stdout",
     "output_type": "stream",
     "text": [
      "[1] \"Bad values:\"\n",
      "      MGV   subj_id       roi diagnosis       age       sex      site \n",
      "        0         0         0         0         0         0         0 \n"
     ]
    }
   ],
   "source": [
    "library(readr)\n",
    "library(dplyr)\n",
    "library(lme4)\n",
    "\n",
    "patient_gmv_demographics <- read_csv(\"./results/patient_gmv_demographics.csv\", \n",
    "    col_types = list(MGV = col_double(), subj_id=col_character(), \n",
    "    roi=col_factor(), diagnosis=col_factor(), age=col_double(), \n",
    "    sex=col_factor(), site=col_factor()))\n",
    "\n",
    "# Filter out sites with only 0 diagnosis\n",
    "patient_gmv_demographics <- patient_gmv_demographics %>%\n",
    "    group_by(site) %>%\n",
    "    filter(any(diagnosis != 0)) %>%\n",
    "    ungroup()\n",
    "\n",
    "print(\"Bad values:\")\n",
    "print(sapply(patient_gmv_demographics, function(x) sum(is.na(x) | is.infinite(x))))\n",
    "\n",
    "rois <- split(patient_gmv_demographics, patient_gmv_demographics$roi)"
   ]
  },
  {
   "cell_type": "code",
   "execution_count": null,
   "metadata": {
    "vscode": {
     "languageId": "r"
    }
   },
   "outputs": [
    {
     "name": "stdout",
     "output_type": "stream",
     "text": [
      "   roi diagnosis_beta Advan_inno BrainGluSchi Baltimore     Dallas    dallas\n",
      "61  61      -2.371317 -2.5790050    -1.377178 -2.210650 -0.8421844 -2.289418\n",
      "62  62      -3.593744 -3.5095077    -1.633536 -3.592556 -1.5832488 -3.447287\n",
      "63  63      -1.993512 -1.3570423    -1.084366 -2.249071 -1.2940414 -1.787566\n",
      "64  64      -3.215523 -3.3046333    -1.338297 -2.136595 -2.1937586 -2.675404\n",
      "65  65      -1.717137 -0.7524529    -2.074192 -2.205002 -1.6811391 -2.124401\n",
      "66  66      -1.747901 -0.6063370    -1.942399 -1.796295 -2.6346766 -1.528220\n",
      "       boston    chicago      COBRE        HCP          A          C\n",
      "61 -1.2092624 -1.6735776 -1.7250456 -2.7877115 -0.9172841 -2.2976554\n",
      "62 -1.9832470 -3.1900720 -1.8993893 -3.2278961 -1.1655787 -2.9427413\n",
      "63 -1.4162328 -0.9433609 -0.1376229 -1.4830127 -1.8301034 -0.7085107\n",
      "64 -1.8291259 -2.0415741 -1.8856337 -2.4625731 -2.1453449 -1.9032656\n",
      "65 -1.4304444 -1.6941642 -2.2222731 -1.0075198 -2.2622417 -0.9628642\n",
      "66 -0.8986231 -1.6803088 -2.2773613 -0.5202181 -2.6894369 -0.9602791\n",
      "   MultidimCog    speech       KUT       KTT       UTO Study_neura\n",
      "61 -1.03456418 -2.299881 -2.072007 -2.294272 -1.805523  -0.9991287\n",
      "62 -1.12125761 -3.975319 -3.573850 -3.083381 -2.470716  -2.3637607\n",
      "63 -0.31857711 -1.700075 -2.058429 -1.063693 -2.297140  -3.6412066\n",
      "64 -1.45406574 -2.463627 -2.199295 -2.013573 -3.394017  -2.9521355\n",
      "65 -0.13932212 -1.605467 -0.691396 -1.269249 -1.158325  -1.7225587\n",
      "66 -0.09202356 -1.408820 -1.261321 -1.000841 -1.538218  -1.4448470\n",
      "   Transdiagnostic2 Transdiagnostic1 no_Advan_inno no_BrainGluSchi no_Baltimore\n",
      "61        1.3275717        0.5945252     -2.309629       -2.400946    -2.326817\n",
      "62        0.7099440        0.2788403     -3.518819       -3.656930    -3.489277\n",
      "63        0.3339181        0.3152234     -1.983445       -2.009432    -1.931567\n",
      "64        0.6873414       -1.0117118     -3.141891       -3.260345    -3.327741\n",
      "65        0.1494675       -0.0398045     -1.749917       -1.665032    -1.665066\n",
      "66        0.6571278       -1.0349986     -1.790715       -1.687459    -1.737517\n",
      "   no_Dallas no_dallas no_boston no_chicago  no_COBRE    no_HCP      no_A\n",
      "61 -2.397063 -2.341644 -2.388926  -2.365962 -2.379438 -2.287694 -2.396170\n",
      "62 -3.614561 -3.533742 -3.608390  -3.532574 -3.666747 -3.549827 -3.650093\n",
      "63 -1.994374 -1.996633 -1.960540  -2.023649 -2.113517 -1.981517 -1.966076\n",
      "64 -3.209998 -3.210882 -3.216886  -3.216511 -3.265116 -3.212360 -3.206615\n",
      "65 -1.700039 -1.672913 -1.696931  -1.694111 -1.658804 -1.742090 -1.652849\n",
      "66 -1.685747 -1.729010 -1.773817  -1.714363 -1.677100 -1.854891 -1.655628\n",
      "        no_C no_MultidimCog no_speech    no_KUT    no_KTT    no_UTO\n",
      "61 -2.332895      -2.403963 -2.354530 -2.346342 -2.348914 -2.345142\n",
      "62 -3.567771      -3.720606 -3.538936 -3.515583 -3.579339 -3.595884\n",
      "63 -2.021124      -2.091225 -1.990508 -1.933628 -2.010975 -1.949419\n",
      "64 -3.234794      -3.148637 -3.226170 -3.248919 -3.244527 -3.107799\n",
      "65 -1.733869      -1.854729 -1.703540 -1.826157 -1.738796 -1.757434\n",
      "66 -1.776693      -1.861619 -1.740623 -1.816647 -1.806021 -1.720869\n",
      "   no_Study_neura no_Transdiagnostic2 no_Transdiagnostic1\n",
      "61      -2.404451           -2.427725           -2.408179\n",
      "62      -3.593511           -3.627488           -3.595995\n",
      "63      -1.840153           -2.017221           -2.001822\n",
      "64      -3.153308           -3.250695           -3.119134\n",
      "65      -1.670248           -1.726098           -1.685578\n",
      "66      -1.725514           -1.774887           -1.653086\n"
     ]
    }
   ],
   "source": [
    "# NOTE: The SIR simulator gives atrophy accumulation as positive values\n",
    "# Mirroring this, here we take the beta values for healthy control \n",
    "# i.e. positive beta values indicate HC GMV > SCZ GMV\n",
    "\n",
    "# Initialize an empty list to store the beta values\n",
    "beta_values <- list()\n",
    "\n",
    "# Calculate beta values for all data\n",
    "for (roi in names(rois)) {\n",
    "    df <- rois[[roi]]\n",
    "    model <- lmer(MGV ~ diagnosis + age + sex + (1 | site), data = df)\n",
    "    beta_diagnosis <- summary(model)$coefficients[\"diagnosis0\", \"Estimate\"]\n",
    "    beta_values[[roi]] <- beta_diagnosis\n",
    "}\n",
    "# Create the initial beta_df with all data\n",
    "beta_df <- data.frame(roi = names(beta_values), diagnosis_beta = as.numeric(scale(unlist(beta_values))))\n",
    "\n",
    "# Calculate beta values for each site separately\n",
    "sites <- unique(patient_gmv_demographics$site)\n",
    "for (site in sites) {\n",
    "    beta_values <- list()\n",
    "\n",
    "    for (roi in names(rois)) {\n",
    "        df <- rois[[roi]] %>% filter(site == !!site)\n",
    "        \n",
    "        model <- lm(MGV ~ diagnosis + age + sex, data = df)\n",
    "        beta_diagnosis <- summary(model)$coefficients[\"diagnosis0\", \"Estimate\"]\n",
    "        beta_values[[roi]] <- beta_diagnosis\n",
    "    }\n",
    "    # Update beta_df with each site\n",
    "    beta_df[[site]] <- as.numeric(scale(unlist(beta_values)))\n",
    "}\n",
    "\n",
    "# Calculate beta values after leaving each site out\n",
    "for (site in sites) {\n",
    "    beta_values <- list()\n",
    "    \n",
    "    for (roi in names(rois)) {\n",
    "        df <- rois[[roi]] %>% filter(site != !!site)\n",
    "        model <- lmer(MGV ~ diagnosis + age + sex + (1 | site), data = df)\n",
    "        beta_diagnosis <- summary(model)$coefficients[\"diagnosis0\", \"Estimate\"]\n",
    "        beta_values[[roi]] <- beta_diagnosis\n",
    "    }\n",
    "    beta_df[[paste0(\"no_\", site)]] <- as.numeric(scale(unlist(beta_values)))\n",
    "}\n",
    "\n",
    "print(tail(beta_df))"
   ]
  },
  {
   "cell_type": "code",
   "execution_count": null,
   "metadata": {
    "vscode": {
     "languageId": "r"
    }
   },
   "outputs": [],
   "source": [
    "write.csv(beta_df, \"./results/betas.csv\", row.names = FALSE)\n",
    "# write.table(beta_df$diagnosis_beta, \"betas_diag.csv\", col.names = FALSE, row.names = FALSE, sep = \",\")"
   ]
  },
  {
   "cell_type": "code",
   "execution_count": null,
   "metadata": {
    "vscode": {
     "languageId": "r"
    }
   },
   "outputs": [
    {
     "data": {
      "image/png": "[encoded data removed]",
      "text/plain": [
       "plot without title"
      ]
     },
     "metadata": {
      "image/png": {
       "height": 420,
       "width": 180
      }
     },
     "output_type": "display_data"
    }
   ],
   "source": [
    "# visualise between-site correlations\n",
    "correlations <- sapply(beta_df[-1], function(x) cor(beta_df$diagnosis_beta, x, use = \"complete.obs\"))\n",
    "correlation_df <- data.frame(site = names(correlations), correlation = correlations)\n",
    "\n",
    "library(ggplot2)\n",
    "\n",
    "# Reorder the site factor to match the original order of sites\n",
    "correlation_df$site <- factor(correlation_df$site, levels = unique(patient_gmv_demographics$site))\n",
    "options(repr.plot.width = 3)\n",
    "# Create the heatmap with flipped axes\n",
    "ggplot(correlation_df, aes(y = site, x = \"correlation\", fill = correlation)) +\n",
    "    geom_tile() +\n",
    "    geom_text(aes(label = round(correlation, 2)), color = \"white\") +\n",
    "    scale_fill_viridis_c() +\n",
    "    theme_minimal() +\n",
    "    labs(y = \"Site\", x = \"\")\n"
   ]
  },
  {
   "cell_type": "code",
   "execution_count": null,
   "metadata": {
    "vscode": {
     "languageId": "r"
    }
   },
   "outputs": [],
   "source": []
  }
 ],
 "metadata": {
  "kernelspec": {
   "display_name": "R",
   "language": "R",
   "name": "ir"
  },
  "language_info": {
   "codemirror_mode": "r",
   "file_extension": ".r",
   "mimetype": "text/x-r-source",
   "name": "R",
   "pygments_lexer": "r",
   "version": "4.4.2"
  }
 },
 "nbformat": 4,
 "nbformat_minor": 2
}
