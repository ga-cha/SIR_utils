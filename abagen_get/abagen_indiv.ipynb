{
 "cells": [
  {
   "cell_type": "code",
   "execution_count": null,
   "metadata": {
    "scrolled": true
   },
   "outputs": [
    {
     "name": "stdout",
     "output_type": "stream",
     "text": [
      "imports done\n",
      "S132 atlas get\n",
      "S332 atlas get\n"
     ]
    },
    {
     "name": "stderr",
     "output_type": "stream",
     "text": [
      "/scratch/kg98/gchan/conda_envs/sir/lib/python3.8/site-packages/abagen/probes_.py:66: FutureWarning: In a future version, `df.iloc[:, i] = newvals` will attempt to set the values inplace instead of always setting a new array. To retain the old behavior, use either `df[df.columns[i]] = newvals` or, if columns are non-unique, `df.isetitem(i, newvals)`\n",
      "  reannotated.loc[:, 'entrez_id'] = reannotated['entrez_id'].astype('int')\n",
      "/scratch/kg98/gchan/conda_envs/sir/lib/python3.8/site-packages/abagen/allen.py:505: FutureWarning: The frame.append method is deprecated and will be removed from pandas in a future version. Use pandas.concat instead.\n",
      "  microarray[subj] = microarray[subj].append(exp)\n",
      "/scratch/kg98/gchan/conda_envs/sir/lib/python3.8/site-packages/abagen/allen.py:506: FutureWarning: The frame.append method is deprecated and will be removed from pandas in a future version. Use pandas.concat instead.\n",
      "  labels = labels.append(lab)\n",
      "/scratch/kg98/gchan/conda_envs/sir/lib/python3.8/site-packages/abagen/allen.py:505: FutureWarning: The frame.append method is deprecated and will be removed from pandas in a future version. Use pandas.concat instead.\n",
      "  microarray[subj] = microarray[subj].append(exp)\n",
      "/scratch/kg98/gchan/conda_envs/sir/lib/python3.8/site-packages/abagen/allen.py:506: FutureWarning: The frame.append method is deprecated and will be removed from pandas in a future version. Use pandas.concat instead.\n",
      "  labels = labels.append(lab)\n",
      "/scratch/kg98/gchan/conda_envs/sir/lib/python3.8/site-packages/abagen/allen.py:505: FutureWarning: The frame.append method is deprecated and will be removed from pandas in a future version. Use pandas.concat instead.\n",
      "  microarray[subj] = microarray[subj].append(exp)\n",
      "/scratch/kg98/gchan/conda_envs/sir/lib/python3.8/site-packages/abagen/allen.py:506: FutureWarning: The frame.append method is deprecated and will be removed from pandas in a future version. Use pandas.concat instead.\n",
      "  labels = labels.append(lab)\n",
      "/scratch/kg98/gchan/conda_envs/sir/lib/python3.8/site-packages/abagen/allen.py:505: FutureWarning: The frame.append method is deprecated and will be removed from pandas in a future version. Use pandas.concat instead.\n",
      "  microarray[subj] = microarray[subj].append(exp)\n",
      "/scratch/kg98/gchan/conda_envs/sir/lib/python3.8/site-packages/abagen/allen.py:506: FutureWarning: The frame.append method is deprecated and will be removed from pandas in a future version. Use pandas.concat instead.\n",
      "  labels = labels.append(lab)\n",
      "/scratch/kg98/gchan/conda_envs/sir/lib/python3.8/site-packages/abagen/allen.py:505: FutureWarning: The frame.append method is deprecated and will be removed from pandas in a future version. Use pandas.concat instead.\n",
      "  microarray[subj] = microarray[subj].append(exp)\n",
      "/scratch/kg98/gchan/conda_envs/sir/lib/python3.8/site-packages/abagen/allen.py:506: FutureWarning: The frame.append method is deprecated and will be removed from pandas in a future version. Use pandas.concat instead.\n",
      "  labels = labels.append(lab)\n",
      "/scratch/kg98/gchan/conda_envs/sir/lib/python3.8/site-packages/abagen/allen.py:505: FutureWarning: The frame.append method is deprecated and will be removed from pandas in a future version. Use pandas.concat instead.\n",
      "  microarray[subj] = microarray[subj].append(exp)\n",
      "/scratch/kg98/gchan/conda_envs/sir/lib/python3.8/site-packages/abagen/allen.py:506: FutureWarning: The frame.append method is deprecated and will be removed from pandas in a future version. Use pandas.concat instead.\n",
      "  labels = labels.append(lab)\n",
      "/scratch/kg98/gchan/conda_envs/sir/lib/python3.8/site-packages/abagen/samples_.py:404: FutureWarning: The frame.append method is deprecated and will be removed from pandas in a future version. Use pandas.concat instead.\n",
      "  gene_by_label = (microarray.groupby('label')\n",
      "/scratch/kg98/gchan/conda_envs/sir/lib/python3.8/site-packages/abagen/samples_.py:404: FutureWarning: The frame.append method is deprecated and will be removed from pandas in a future version. Use pandas.concat instead.\n",
      "  gene_by_label = (microarray.groupby('label')\n",
      "/scratch/kg98/gchan/conda_envs/sir/lib/python3.8/site-packages/abagen/samples_.py:404: FutureWarning: The frame.append method is deprecated and will be removed from pandas in a future version. Use pandas.concat instead.\n",
      "  gene_by_label = (microarray.groupby('label')\n",
      "/scratch/kg98/gchan/conda_envs/sir/lib/python3.8/site-packages/abagen/samples_.py:404: FutureWarning: The frame.append method is deprecated and will be removed from pandas in a future version. Use pandas.concat instead.\n",
      "  gene_by_label = (microarray.groupby('label')\n",
      "/scratch/kg98/gchan/conda_envs/sir/lib/python3.8/site-packages/abagen/samples_.py:404: FutureWarning: The frame.append method is deprecated and will be removed from pandas in a future version. Use pandas.concat instead.\n",
      "  gene_by_label = (microarray.groupby('label')\n",
      "/scratch/kg98/gchan/conda_envs/sir/lib/python3.8/site-packages/abagen/samples_.py:404: FutureWarning: The frame.append method is deprecated and will be removed from pandas in a future version. Use pandas.concat instead.\n",
      "  gene_by_label = (microarray.groupby('label')\n"
     ]
    },
    {
     "name": "stdout",
     "output_type": "stream",
     "text": [
      "S132 expression get\n"
     ]
    },
    {
     "name": "stderr",
     "output_type": "stream",
     "text": [
      "/scratch/kg98/gchan/conda_envs/sir/lib/python3.8/site-packages/abagen/probes_.py:66: FutureWarning: In a future version, `df.iloc[:, i] = newvals` will attempt to set the values inplace instead of always setting a new array. To retain the old behavior, use either `df[df.columns[i]] = newvals` or, if columns are non-unique, `df.isetitem(i, newvals)`\n",
      "  reannotated.loc[:, 'entrez_id'] = reannotated['entrez_id'].astype('int')\n",
      "/scratch/kg98/gchan/conda_envs/sir/lib/python3.8/site-packages/abagen/allen.py:505: FutureWarning: The frame.append method is deprecated and will be removed from pandas in a future version. Use pandas.concat instead.\n",
      "  microarray[subj] = microarray[subj].append(exp)\n",
      "/scratch/kg98/gchan/conda_envs/sir/lib/python3.8/site-packages/abagen/allen.py:506: FutureWarning: The frame.append method is deprecated and will be removed from pandas in a future version. Use pandas.concat instead.\n",
      "  labels = labels.append(lab)\n",
      "/scratch/kg98/gchan/conda_envs/sir/lib/python3.8/site-packages/abagen/allen.py:505: FutureWarning: The frame.append method is deprecated and will be removed from pandas in a future version. Use pandas.concat instead.\n",
      "  microarray[subj] = microarray[subj].append(exp)\n",
      "/scratch/kg98/gchan/conda_envs/sir/lib/python3.8/site-packages/abagen/allen.py:506: FutureWarning: The frame.append method is deprecated and will be removed from pandas in a future version. Use pandas.concat instead.\n",
      "  labels = labels.append(lab)\n",
      "/scratch/kg98/gchan/conda_envs/sir/lib/python3.8/site-packages/abagen/allen.py:505: FutureWarning: The frame.append method is deprecated and will be removed from pandas in a future version. Use pandas.concat instead.\n",
      "  microarray[subj] = microarray[subj].append(exp)\n",
      "/scratch/kg98/gchan/conda_envs/sir/lib/python3.8/site-packages/abagen/allen.py:506: FutureWarning: The frame.append method is deprecated and will be removed from pandas in a future version. Use pandas.concat instead.\n",
      "  labels = labels.append(lab)\n",
      "/scratch/kg98/gchan/conda_envs/sir/lib/python3.8/site-packages/abagen/allen.py:505: FutureWarning: The frame.append method is deprecated and will be removed from pandas in a future version. Use pandas.concat instead.\n",
      "  microarray[subj] = microarray[subj].append(exp)\n",
      "/scratch/kg98/gchan/conda_envs/sir/lib/python3.8/site-packages/abagen/allen.py:506: FutureWarning: The frame.append method is deprecated and will be removed from pandas in a future version. Use pandas.concat instead.\n",
      "  labels = labels.append(lab)\n",
      "/scratch/kg98/gchan/conda_envs/sir/lib/python3.8/site-packages/abagen/allen.py:505: FutureWarning: The frame.append method is deprecated and will be removed from pandas in a future version. Use pandas.concat instead.\n",
      "  microarray[subj] = microarray[subj].append(exp)\n",
      "/scratch/kg98/gchan/conda_envs/sir/lib/python3.8/site-packages/abagen/allen.py:506: FutureWarning: The frame.append method is deprecated and will be removed from pandas in a future version. Use pandas.concat instead.\n",
      "  labels = labels.append(lab)\n",
      "/scratch/kg98/gchan/conda_envs/sir/lib/python3.8/site-packages/abagen/allen.py:505: FutureWarning: The frame.append method is deprecated and will be removed from pandas in a future version. Use pandas.concat instead.\n",
      "  microarray[subj] = microarray[subj].append(exp)\n",
      "/scratch/kg98/gchan/conda_envs/sir/lib/python3.8/site-packages/abagen/allen.py:506: FutureWarning: The frame.append method is deprecated and will be removed from pandas in a future version. Use pandas.concat instead.\n",
      "  labels = labels.append(lab)\n",
      "/scratch/kg98/gchan/conda_envs/sir/lib/python3.8/site-packages/abagen/samples_.py:404: FutureWarning: The frame.append method is deprecated and will be removed from pandas in a future version. Use pandas.concat instead.\n",
      "  gene_by_label = (microarray.groupby('label')\n",
      "/scratch/kg98/gchan/conda_envs/sir/lib/python3.8/site-packages/abagen/samples_.py:404: FutureWarning: The frame.append method is deprecated and will be removed from pandas in a future version. Use pandas.concat instead.\n",
      "  gene_by_label = (microarray.groupby('label')\n",
      "/scratch/kg98/gchan/conda_envs/sir/lib/python3.8/site-packages/abagen/samples_.py:404: FutureWarning: The frame.append method is deprecated and will be removed from pandas in a future version. Use pandas.concat instead.\n",
      "  gene_by_label = (microarray.groupby('label')\n",
      "/scratch/kg98/gchan/conda_envs/sir/lib/python3.8/site-packages/abagen/samples_.py:404: FutureWarning: The frame.append method is deprecated and will be removed from pandas in a future version. Use pandas.concat instead.\n",
      "  gene_by_label = (microarray.groupby('label')\n",
      "/scratch/kg98/gchan/conda_envs/sir/lib/python3.8/site-packages/abagen/samples_.py:404: FutureWarning: The frame.append method is deprecated and will be removed from pandas in a future version. Use pandas.concat instead.\n",
      "  gene_by_label = (microarray.groupby('label')\n",
      "/scratch/kg98/gchan/conda_envs/sir/lib/python3.8/site-packages/abagen/samples_.py:404: FutureWarning: The frame.append method is deprecated and will be removed from pandas in a future version. Use pandas.concat instead.\n",
      "  gene_by_label = (microarray.groupby('label')\n"
     ]
    },
    {
     "name": "stdout",
     "output_type": "stream",
     "text": [
      "S332 expression get\n"
     ]
    }
   ],
   "source": [
    "# 5 min\n",
    "\n",
    "import abagen\n",
    "import pandas as pd\n",
    "import numpy as np\n",
    "from scipy.stats import zscore \n",
    "print (\"imports done\")\n",
    "\n",
    "data_ahba = '/home/gchan/kg98_scratch/gchan/SIR_SCZ/data-ahba'\n",
    "files = abagen.fetch_microarray(donors='all', data_dir=data_ahba)\n",
    "\n",
    "# external atlases\n",
    "atlas_header = '/fs03/kg98/gchan/Atlases/AHBA_individual/Schaefer_GC/Schaefer_xfm_AA/'\n",
    "atlas132_footer = '/parcs/Schaefer100_7net+TianS2.nii'\n",
    "atlas332_footer = '/parcs/Schaefer300_7net+TianS2.nii'\n",
    "\n",
    "atlas132 = {}\n",
    "atlas132['image'] = {\n",
    "    '9861': atlas_header + 'H0351_2001' + atlas132_footer, \n",
    "    '10021': atlas_header + 'H0351_2002' + atlas132_footer, \n",
    "    '12876': atlas_header + 'H0351_1009' + atlas132_footer, \n",
    "    '14380': atlas_header + 'H0351_1012' + atlas132_footer, \n",
    "    '15496': atlas_header + 'H0351_1015' + atlas132_footer, \n",
    "    '15697': atlas_header + 'H0351_1016' + atlas132_footer\n",
    "}\n",
    "atlas132['info'] = atlas_header + 'Schaefer2018_100Parcels_7Networks_order_Tian_Subcortex_S2_label.csv'\n",
    "\n",
    "atlas332 = {}\n",
    "atlas332['image'] = {\n",
    "    '9861': atlas_header + 'H0351_2001' + atlas332_footer, \n",
    "    '10021': atlas_header + 'H0351_2002' + atlas332_footer, \n",
    "    '12876': atlas_header + 'H0351_1009' + atlas332_footer, \n",
    "    '14380': atlas_header + 'H0351_1012' + atlas332_footer, \n",
    "    '15496': atlas_header + 'H0351_1015' + atlas332_footer, \n",
    "    '15697': atlas_header + 'H0351_1016' + atlas332_footer\n",
    "}\n",
    "atlas332['info'] = atlas_header + 'Schaefer2018_300Parcels_7Networks_order_Tian_Subcortex_S2_label.csv'\n",
    "# print(atlas['image'].keys(), atlas['image']['9861'], atlas['info'])\n",
    "\n",
    "abagen.check_atlas(atlas132['image']['9861'], atlas132['info'])\n",
    "print(\"S132 atlas get\")\n",
    "abagen.check_atlas(atlas332['image']['9861'], atlas332['info'])\n",
    "print(\"S332 atlas get\")\n",
    "\n",
    "expression132 = abagen.get_expression_data(atlas132['image'], atlas132['info'], missing='interpolate', data_dir=data_ahba, n_proc = 6)\n",
    "print (\"S132 expression get\")\n",
    "expression332 = abagen.get_expression_data(atlas332['image'], atlas332['info'], missing='interpolate', data_dir=data_ahba, n_proc = 6)\n",
    "print (\"S332 expression get\")"
   ]
  },
  {
   "cell_type": "code",
   "execution_count": 6,
   "metadata": {},
   "outputs": [
    {
     "name": "stdout",
     "output_type": "stream",
     "text": [
      "(66, 15635) (166, 15635)\n"
     ]
    }
   ],
   "source": [
    "# Check info for LH indices, and trim for LH\n",
    "# 100 cort L, 10 subcort L, 100 cort R, 10 subcort R\n",
    "# atlas_info = pd.read_csv(atlas['info'])\n",
    "# print(atlas_info[98:112])\n",
    "\n",
    "expr_s132_l = expression132[0:66]\n",
    "expr_s332_l = expression332[0:166]\n",
    "print(expr_s132_l.shape, expr_s332_l.shape)"
   ]
  },
  {
   "cell_type": "code",
   "execution_count": 7,
   "metadata": {},
   "outputs": [
    {
     "name": "stdout",
     "output_type": "stream",
     "text": [
      "(66, 10297)\n"
     ]
    }
   ],
   "source": [
    "# iterate through genes with GO annotations\n",
    "# check in gene expression data for each gene\n",
    "# if so append to a dict of genes\n",
    "\n",
    "# a 1d array of genes\n",
    "# GO_genes = pd.read_csv(\"./data/GO_annots/GO_Homo-sapiens_UniProt_uniq.csv\", header=None)\n",
    "GO_genes = pd.read_csv(\"./data/GO_annots/GO_Homo-sapiens_UniProt_annot_uniq.csv\", header=None)\n",
    "gene_expr132 = {}\n",
    "gene_expr332 = {}\n",
    "genes = []\n",
    "for gene in GO_genes.iloc[:,0]:\n",
    "    try:\n",
    "        gene_expr132[gene] = expr_s132_l[gene][:]\n",
    "        gene_expr332[gene] = expr_s332_l[gene][:]\n",
    "        genes.append(gene)\n",
    "    except Exception:\n",
    "        pass\n",
    "        \n",
    "out132 = pd.DataFrame(data = gene_expr132)\n",
    "out132 = out132.fillna(0)\n",
    "out132_z = out132.apply(zscore)\n",
    "out332 = pd.DataFrame(data = gene_expr332)\n",
    "out332 = out332.fillna(0)\n",
    "out332_z = out332.apply(zscore)\n",
    "\n",
    "print(out132.shape)\n",
    "# Write out\n",
    "out132.to_csv('results/gene_expr_s132_indiv.csv', index=False)\n",
    "out132_z.to_csv('results/gene_expr_s132_indiv_z.csv', index=False)\n",
    "out332.to_csv('results/gene_expr_s332_indiv.csv', index=False)\n",
    "out332_z.to_csv('results/gene_expr_s332_indiv_z.csv', index=False)\n",
    "\n"
   ]
  },
  {
   "cell_type": "code",
   "execution_count": 8,
   "metadata": {},
   "outputs": [],
   "source": [
    "# a list of all genes with abagen gene expression data\n",
    "genes_df = pd.DataFrame(genes, columns = [\"genes\"])\n",
    "genes_df.to_csv('results/all_annotated_AHBA_GO_genes.csv', index=False)"
   ]
  },
  {
   "cell_type": "code",
   "execution_count": 20,
   "metadata": {},
   "outputs": [],
   "source": [
    "import nibabel as nib\n",
    "import nibabel.processing\n",
    "import nilearn\n",
    "from nilearn import datasets, plotting, surface\n",
    "import matplotlib.pyplot as plt\n",
    "from abagen import images\n",
    "\n",
    "atlas_img = nib.load(\"/home/gchan/kg98_scratch/gchan/Atlases/Tian/Schaefer_Tian/reordered/Schaefer2018_100Parcels_7Networks_order_Tian_Subcortex_S2_MNI152NLin6Asym_1mm_reordered.nii\");\n",
    "gene = \"GNLY\"\n",
    "\n",
    "gene_header = atlas_img.header.copy()\n",
    "gene_header['datatype'] = 16\n",
    "gene_affine = atlas_img.affine.copy()\n",
    "atlas_data = atlas_img.get_fdata()\n",
    "\n",
    "gene_data = np.zeros_like(atlas_data)\n",
    "\n",
    "for roi in np.unique(atlas_data):\n",
    "    if roi == 0:\n",
    "        continue\n",
    "    roi_expr = expression132[gene][roi]\n",
    "    gene_data[atlas_data == roi] = roi_expr\n",
    "\n",
    "gene_img = nib.Nifti1Image(gene_data, gene_affine, gene_header)\n",
    "nib.save(gene_img, gene + '_s132_indiv.nii')"
   ]
  },
  {
   "cell_type": "code",
   "execution_count": null,
   "metadata": {},
   "outputs": [],
   "source": []
  }
 ],
 "metadata": {
  "kernelspec": {
   "display_name": "base",
   "language": "python",
   "name": "python3"
  },
  "language_info": {
   "codemirror_mode": {
    "name": "ipython",
    "version": 3
   },
   "file_extension": ".py",
   "mimetype": "text/x-python",
   "name": "python",
   "nbconvert_exporter": "python",
   "pygments_lexer": "ipython3",
   "version": "3.8.5"
  }
 },
 "nbformat": 4,
 "nbformat_minor": 4
}
