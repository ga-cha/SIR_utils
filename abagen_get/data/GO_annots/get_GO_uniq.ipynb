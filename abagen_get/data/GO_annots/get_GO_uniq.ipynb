{
 "cells": [
  {
   "cell_type": "code",
   "execution_count": null,
   "metadata": {},
   "outputs": [],
   "source": [
    "import pandas as pd\n",
    "import numpy as np"
   ]
  },
  {
   "cell_type": "code",
   "execution_count": null,
   "metadata": {},
   "outputs": [],
   "source": [
    "cc = pd.read_csv('GO_Homo-sapiens_UniProt_EE_C.txt', sep='\\t', header=None)\n",
    "mf = pd.read_csv('GO_Homo-sapiens_UniProt_EE_F.txt', sep='\\t', header=None)\n",
    "bp = pd.read_csv('GO_Homo-sapiens_UniProt_EE_P.txt', sep='\\t', header=None)\n",
    "\n",
    "# concatenates gene names across aspects and stores in a single column\n",
    "aspects = pd.concat([cc, mf, bp])\n",
    "genes = set(aspects[2]) | set(aspects[10].dropna().str.split('|').sum())\n",
    "\n",
    "pd.DataFrame(list(genes)).to_csv(\"./GO_Homo-sapiens_UniProt_annot_uniq.csv\", index=False, header=False)"
   ]
  },
  {
   "cell_type": "code",
   "execution_count": null,
   "metadata": {},
   "outputs": [],
   "source": [
    "all_genes = pd.read_csv('GO_UniProt_entries.txt', sep='\\t', header=None)\n",
    "genes = set(all_genes[1]) | set(all_genes[2].dropna().str.split('|').sum())\n",
    "\n",
    "pd.DataFrame(list(genes)).to_csv(\"./GO_Homo-sapiens_UniProt_uniq.csv\", index=False, header=False)"
   ]
  },
  {
   "cell_type": "code",
   "execution_count": 30,
   "metadata": {},
   "outputs": [],
   "source": [
    "aspects = pd.concat([cc, mf, bp])[[2, 10]]\n",
    "aspects = aspects.drop_duplicates(ignore_index=True)\n",
    "aspects = aspects.rename(columns={2: \"gene\", 10: \"aliases\"})\n",
    "\n",
    "aspects.to_csv(\"/fs03/kg98/gchan/Genes/gene_aliases/GO_Homo-sapiens_UniProt_annot_uniq.csv\", index=False)\n",
    "\n",
    "# with open(\"/fs03/kg98/gchan/Genes/gene_aliases/GO_Homo-sapiens_UniProt_annot_uniq.csv\", 'w') as f:\n",
    "#     for i in range(0, len(aspects)):\n",
    "#         gene = aspects.iloc[i, 0]\n",
    "#         try:\n",
    "#             aliases = aspects.iloc[i, 1].replace('|', ', ')\n",
    "#             f.write(', '.join([gene, aliases]) + '\\n')\n",
    "#         except:\n",
    "#             f.write(gene + '\\n')\n"
   ]
  },
  {
   "cell_type": "code",
   "execution_count": null,
   "metadata": {},
   "outputs": [],
   "source": []
  }
 ],
 "metadata": {
  "kernelspec": {
   "display_name": "base",
   "language": "python",
   "name": "python3"
  },
  "language_info": {
   "codemirror_mode": {
    "name": "ipython",
    "version": 3
   },
   "file_extension": ".py",
   "mimetype": "text/x-python",
   "name": "python",
   "nbconvert_exporter": "python",
   "pygments_lexer": "ipython3",
   "version": "3.8.5"
  }
 },
 "nbformat": 4,
 "nbformat_minor": 2
}
