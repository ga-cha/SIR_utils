{
 "cells": [
  {
   "cell_type": "code",
   "execution_count": 8,
   "metadata": {},
   "outputs": [],
   "source": [
    "import pandas as pd\n",
    "import mygene"
   ]
  },
  {
   "cell_type": "code",
   "execution_count": 15,
   "metadata": {},
   "outputs": [
    {
     "name": "stderr",
     "output_type": "stream",
     "text": [
      "Input sequence provided is already in string format. No operation performed\n",
      "Input sequence provided is already in string format. No operation performed\n",
      "7 input query terms found dup hits:\t[('284697', 2), ('8335', 2), ('8969', 3), ('8346', 5), ('23499', 2), ('10200', 2), ('25937', 2)]\n"
     ]
    },
    {
     "data": {
      "text/html": [
       "<div>\n",
       "<style scoped>\n",
       "    .dataframe tbody tr th:only-of-type {\n",
       "        vertical-align: middle;\n",
       "    }\n",
       "\n",
       "    .dataframe tbody tr th {\n",
       "        vertical-align: top;\n",
       "    }\n",
       "\n",
       "    .dataframe thead th {\n",
       "        text-align: right;\n",
       "    }\n",
       "</style>\n",
       "<table border=\"1\" class=\"dataframe\">\n",
       "  <thead>\n",
       "    <tr style=\"text-align: right;\">\n",
       "      <th></th>\n",
       "      <th>ElementName</th>\n",
       "      <th>abagen name</th>\n",
       "      <th>gene name</th>\n",
       "      <th>counts</th>\n",
       "      <th>max_corr</th>\n",
       "      <th>ensembl</th>\n",
       "    </tr>\n",
       "  </thead>\n",
       "  <tbody>\n",
       "    <tr>\n",
       "      <th>0</th>\n",
       "      <td>1</td>\n",
       "      <td>A1BG</td>\n",
       "      <td>A1BG</td>\n",
       "      <td>3</td>\n",
       "      <td>0.560967</td>\n",
       "      <td>ENSG00000121410</td>\n",
       "    </tr>\n",
       "    <tr>\n",
       "      <th>1</th>\n",
       "      <td>2</td>\n",
       "      <td>A2M</td>\n",
       "      <td>A2M</td>\n",
       "      <td>0</td>\n",
       "      <td>0.438845</td>\n",
       "      <td>ENSG00000175899</td>\n",
       "    </tr>\n",
       "    <tr>\n",
       "      <th>2</th>\n",
       "      <td>144568</td>\n",
       "      <td>A2ML1</td>\n",
       "      <td>A2ML1</td>\n",
       "      <td>0</td>\n",
       "      <td>0.437742</td>\n",
       "      <td>ENSG00000166535</td>\n",
       "    </tr>\n",
       "    <tr>\n",
       "      <th>3</th>\n",
       "      <td>127550</td>\n",
       "      <td>A3GALT2</td>\n",
       "      <td>A3GALT2</td>\n",
       "      <td>0</td>\n",
       "      <td>0.454256</td>\n",
       "      <td>ENSG00000184389</td>\n",
       "    </tr>\n",
       "    <tr>\n",
       "      <th>4</th>\n",
       "      <td>53947</td>\n",
       "      <td>A4GALT</td>\n",
       "      <td>A4GALT</td>\n",
       "      <td>0</td>\n",
       "      <td>0.441503</td>\n",
       "      <td>ENSG00000128274</td>\n",
       "    </tr>\n",
       "    <tr>\n",
       "      <th>...</th>\n",
       "      <td>...</td>\n",
       "      <td>...</td>\n",
       "      <td>...</td>\n",
       "      <td>...</td>\n",
       "      <td>...</td>\n",
       "      <td>...</td>\n",
       "    </tr>\n",
       "    <tr>\n",
       "      <th>9931</th>\n",
       "      <td>79364</td>\n",
       "      <td>ZXDC</td>\n",
       "      <td>ZXDC</td>\n",
       "      <td>1</td>\n",
       "      <td>0.515856</td>\n",
       "      <td>ENSG00000070476</td>\n",
       "    </tr>\n",
       "    <tr>\n",
       "      <th>9932</th>\n",
       "      <td>79699</td>\n",
       "      <td>ZYG11B</td>\n",
       "      <td>ZYG11B</td>\n",
       "      <td>0</td>\n",
       "      <td>0.492594</td>\n",
       "      <td>ENSG00000162378</td>\n",
       "    </tr>\n",
       "    <tr>\n",
       "      <th>9933</th>\n",
       "      <td>7791</td>\n",
       "      <td>ZYX</td>\n",
       "      <td>ZYX</td>\n",
       "      <td>0</td>\n",
       "      <td>0.470202</td>\n",
       "      <td>ENSG00000285443</td>\n",
       "    </tr>\n",
       "    <tr>\n",
       "      <th>9934</th>\n",
       "      <td>23140</td>\n",
       "      <td>ZZEF1</td>\n",
       "      <td>ZZEF1</td>\n",
       "      <td>0</td>\n",
       "      <td>0.390854</td>\n",
       "      <td>ENSG00000074755</td>\n",
       "    </tr>\n",
       "    <tr>\n",
       "      <th>9935</th>\n",
       "      <td>26009</td>\n",
       "      <td>ZZZ3</td>\n",
       "      <td>ZZZ3</td>\n",
       "      <td>2</td>\n",
       "      <td>0.543236</td>\n",
       "      <td>ENSG00000036549</td>\n",
       "    </tr>\n",
       "  </tbody>\n",
       "</table>\n",
       "<p>9936 rows × 6 columns</p>\n",
       "</div>"
      ],
      "text/plain": [
       "     ElementName abagen name gene name  counts  max_corr          ensembl\n",
       "0              1        A1BG      A1BG       3  0.560967  ENSG00000121410\n",
       "1              2         A2M       A2M       0  0.438845  ENSG00000175899\n",
       "2         144568       A2ML1     A2ML1       0  0.437742  ENSG00000166535\n",
       "3         127550     A3GALT2   A3GALT2       0  0.454256  ENSG00000184389\n",
       "4          53947      A4GALT    A4GALT       0  0.441503  ENSG00000128274\n",
       "...          ...         ...       ...     ...       ...              ...\n",
       "9931       79364        ZXDC      ZXDC       1  0.515856  ENSG00000070476\n",
       "9932       79699      ZYG11B    ZYG11B       0  0.492594  ENSG00000162378\n",
       "9933        7791         ZYX       ZYX       0  0.470202  ENSG00000285443\n",
       "9934       23140       ZZEF1     ZZEF1       0  0.390854  ENSG00000074755\n",
       "9935       26009        ZZZ3      ZZZ3       2  0.543236  ENSG00000036549\n",
       "\n",
       "[9936 rows x 6 columns]"
      ]
     },
     "metadata": {},
     "output_type": "display_data"
    }
   ],
   "source": [
    "all_names = pd.read_csv('/home/gchan/ermineJ.data/risk_gene_counts.txt', sep='\\t', dtype={'ElementName': str, 'abagen name': str, 'gene name': str, 'counts': int, 'max_corr': float})\n",
    "\n",
    "# convert gene names to Ensembl IDs\n",
    "mg = mygene.MyGeneInfo()\n",
    "ensembl_genes = mg.querymany(all_names['ElementName'].values.tolist(), scopes='entrezgene', fields='ensembl.gene', species='human', as_dataframe=True)\n",
    "ensembl_genes['ensembl'] = ensembl_genes.apply(lambda row: row['ensembl.gene'] if pd.notna(row['ensembl.gene']) else (row['ensembl'][0]['gene'] if isinstance(row['ensembl'], list) and len(row['ensembl']) > 0 else None), axis=1)\n",
    "\n",
    "# Merge the ensembl_genes dataframe with all_names dataframe\n",
    "all_names = all_names.merge(ensembl_genes[['ensembl']], left_on='ElementName', right_index=True, how='inner')\n",
    "all_names = all_names.drop_duplicates(subset=['ensembl'], keep='first').reset_index(drop=True)\n",
    "\n",
    "# Filter risk names\n",
    "risk_names = all_names[all_names['counts'] > 0].reset_index(drop=True)\n",
    "display(all_names)\n"
   ]
  },
  {
   "cell_type": "code",
   "execution_count": 18,
   "metadata": {},
   "outputs": [
    {
     "data": {
      "text/plain": [
       "(220, 11)"
      ]
     },
     "metadata": {},
     "output_type": "display_data"
    }
   ],
   "source": [
    "eqtls = pd.read_csv('/fs03/kg98/gchan/SIR_SCZ/SIR_utils/enrichment/pgcSCZ3_eQTLbrain_genes.txt', sep='\\s+')\n",
    "eqtls = eqtls.rename(columns={\"GENE\": \"Ensembl.ID\"})\n",
    "eqtls = eqtls[eqtls['P'] < (0.05/eqtls.shape[0])].reset_index(drop=True)\n",
    "# eqtls = pd.read_csv('/home/gchan/kg98_scratch/gchan/SIR_SCZ/SIR_utils/enrichment/41586_2022_4434_Tab1_ESM.csv')\n",
    "eqtls = eqtls[eqtls['Ensembl.ID'].isin(all_names['ensembl'])].reset_index(drop=True)\n",
    "display(eqtls.shape)"
   ]
  },
  {
   "cell_type": "code",
   "execution_count": 19,
   "metadata": {},
   "outputs": [],
   "source": [
    "import numpy as np\n",
    "from tqdm import tqdm\n",
    "\n",
    "# Step 1: Calculate the Enrichment Score (ES)\n",
    "def calculate_es(gene_list, gene_set):\n",
    "    N = len(gene_list)\n",
    "    Nh = len(gene_set)\n",
    "    hits = np.isin(gene_list, list(gene_set)).astype(int)\n",
    "    no_hits = 1 - hits\n",
    "\n",
    "    # Calculate the running sum\n",
    "    running_sum = np.cumsum(hits / Nh - no_hits / (N - Nh))\n",
    "    es = running_sum.max()\n",
    "    return es\n",
    "\n",
    "# Step 2: Estimate the Statistical Significance (Nominal P value)\n",
    "def permute_and_calculate_es(gene_list, gene_set, n_permutations=1000, seed=None):\n",
    "    if seed is not None:\n",
    "        np.random.seed(seed)\n",
    "    permuted_es = np.zeros(n_permutations)\n",
    "    for i in tqdm(range(n_permutations)):\n",
    "        permuted_list = np.random.permutation(gene_list)\n",
    "        permuted_es[i] = calculate_es(permuted_list, gene_set)\n",
    "    return permuted_es\n",
    "\n",
    "def run_gsea(gene_list, gene_set, n_permutations=1000):\n",
    "    observed_es = calculate_es(gene_list, gene_set)\n",
    "    permuted_es = permute_and_calculate_es(gene_list, gene_set, n_permutations)\n",
    "    p_value = np.mean(permuted_es >= observed_es)\n",
    "\n",
    "    print(f\"Observed ES: {observed_es}\")\n",
    "    print(f\"Empirical P value: {p_value}\")\n",
    "\n",
    "    return observed_es, permuted_es\n"
   ]
  },
  {
   "cell_type": "code",
   "execution_count": 20,
   "metadata": {},
   "outputs": [
    {
     "name": "stderr",
     "output_type": "stream",
     "text": [
      "  0%|          | 0/1000 [00:00<?, ?it/s]"
     ]
    },
    {
     "name": "stdout",
     "output_type": "stream",
     "text": [
      "eQTLs as gene set, risk gene max corr as gene list\n"
     ]
    },
    {
     "name": "stderr",
     "output_type": "stream",
     "text": [
      "100%|██████████| 1000/1000 [01:05<00:00, 15.27it/s]\n"
     ]
    },
    {
     "name": "stdout",
     "output_type": "stream",
     "text": [
      "Observed ES: 0.08065795875594185\n",
      "Empirical P value: 0.061\n"
     ]
    },
    {
     "name": "stderr",
     "output_type": "stream",
     "text": [
      "  0%|          | 0/1000 [00:00<?, ?it/s]"
     ]
    },
    {
     "name": "stdout",
     "output_type": "stream",
     "text": [
      "eQTLs as gene set, risk counts as gene list\n"
     ]
    },
    {
     "name": "stderr",
     "output_type": "stream",
     "text": [
      "100%|██████████| 1000/1000 [01:11<00:00, 13.91it/s]"
     ]
    },
    {
     "name": "stdout",
     "output_type": "stream",
     "text": [
      "Observed ES: 0.05331973502002058\n",
      "Empirical P value: 0.266\n"
     ]
    },
    {
     "name": "stderr",
     "output_type": "stream",
     "text": [
      "\n"
     ]
    }
   ],
   "source": [
    "# with eQTLs as gene set, risk gene max corr as gene list\n",
    "all_names = all_names.sort_values(by='max_corr', ascending=False)\n",
    "gene_list = all_names['ensembl'].tolist()\n",
    "gene_set = set(eqtls['Ensembl.ID'].tolist())\n",
    "print(\"eQTLs as gene set, risk gene max corr as gene list\")\n",
    "obs, perm = run_gsea(gene_list, gene_set, n_permutations=1000)\n",
    "\n",
    "# # with eQTLs as gene set, risk counts as gene list\n",
    "all_names = all_names.sort_values(by='counts', ascending=False)\n",
    "gene_list = all_names['ensembl'].tolist()\n",
    "print(\"eQTLs as gene set, risk counts as gene list\")\n",
    "obs2, perm2 = run_gsea(gene_list, gene_set, n_permutations=1000)\n"
   ]
  },
  {
   "cell_type": "code",
   "execution_count": 21,
   "metadata": {},
   "outputs": [
    {
     "name": "stdout",
     "output_type": "stream",
     "text": [
      "[[59, 2185], [161, 7531]]\n",
      "Odds Ratio: 1.263069772730503\n",
      "P-value: 0.14180477550874823\n"
     ]
    }
   ],
   "source": [
    "import scipy.stats as stats\n",
    "\n",
    "# Example data\n",
    "experimental_hits = set(risk_names['ensembl'].values)\n",
    "pathway_genes = set(eqtls['Ensembl.ID'].values)\n",
    "all_genes = set(all_names['ensembl'].values)\n",
    "non_hits = all_genes - experimental_hits\n",
    "\n",
    "# Calculate the counts for the contingency table\n",
    "hits_in_pathway = len(experimental_hits & pathway_genes)\n",
    "hits_not_in_pathway = len(experimental_hits) - hits_in_pathway\n",
    "non_hits_in_pathway = len(non_hits & pathway_genes)\n",
    "non_hits_not_in_pathway = len(non_hits) - non_hits_in_pathway\n",
    "\n",
    "# Create the contingency table\n",
    "contingency_table = [\n",
    "    [hits_in_pathway, hits_not_in_pathway],\n",
    "    [non_hits_in_pathway, non_hits_not_in_pathway]\n",
    "]\n",
    "\n",
    "# Perform Fisher's Exact Test\n",
    "odds_ratio, p_value = stats.fisher_exact(contingency_table)\n",
    "\n",
    "print(contingency_table)\n",
    "print(f\"Odds Ratio: {odds_ratio}\")\n",
    "print(f\"P-value: {p_value}\")"
   ]
  },
  {
   "cell_type": "code",
   "execution_count": null,
   "metadata": {},
   "outputs": [
    {
     "name": "stdout",
     "output_type": "stream",
     "text": [
      "Spearman Correlation: -0.02190030855487883\n",
      "Spearman P-value: 0.051643007682471195\n"
     ]
    }
   ],
   "source": [
    "# Extract counts and p-values for the genes in the pathway\n",
    "pathway_data = eqtls[eqtls['GENE'].isin(all_genes)]\n",
    "counts = all_names.set_index('ensembl').loc[pathway_data['GENE'], 'max_corr']\n",
    "p_values = pathway_data['p bonferroi']\n",
    "\n",
    "# Calculate Spearman's rank correlation\n",
    "spearman_corr, spearman_p_value = stats.spearmanr(counts, p_values)\n",
    "\n",
    "print(f\"Spearman Correlation: {spearman_corr}\")\n",
    "print(f\"Spearman P-value: {spearman_p_value}\")"
   ]
  },
  {
   "cell_type": "code",
   "execution_count": null,
   "metadata": {},
   "outputs": [],
   "source": []
  }
 ],
 "metadata": {
  "kernelspec": {
   "display_name": "base",
   "language": "python",
   "name": "python3"
  },
  "language_info": {
   "codemirror_mode": {
    "name": "ipython",
    "version": 3
   },
   "file_extension": ".py",
   "mimetype": "text/x-python",
   "name": "python",
   "nbconvert_exporter": "python",
   "pygments_lexer": "ipython3",
   "version": "3.8.5"
  }
 },
 "nbformat": 4,
 "nbformat_minor": 2
}
